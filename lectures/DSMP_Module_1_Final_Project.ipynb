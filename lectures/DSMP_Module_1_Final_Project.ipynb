{
  "nbformat": 4,
  "nbformat_minor": 0,
  "metadata": {
    "colab": {
      "provenance": []
    },
    "kernelspec": {
      "name": "python3",
      "display_name": "Python 3"
    },
    "language_info": {
      "name": "python"
    }
  },
  "cells": [
    {
      "cell_type": "markdown",
      "source": [
        "## **COMSATS University Course Management System**\n",
        "\n",
        "### **Scenario Overview**\n",
        "Imagine you're a student at COMSATS University, managing your various courses throughout a semester. Each course, like **Programming Fundamentals**, **OOPS**, **Python**, **Statistics**, and **Calculus**, has its own specific characteristics and requirements. However, they also share common features.\n",
        "\n",
        "### **Class: Course**\n",
        "Think of a **Course** as a general template that holds information about all courses at COMSATS.\n",
        "\n",
        "### **Objects: Specific Courses**\n",
        "Now, each specific course you take is an **object** of the **Course** class. For instance:\n",
        "- **Programming Fundamentals** (object)\n",
        "- **OOPS** (object)\n",
        "- **Python** (object)\n",
        "\n",
        "Each of these courses will have unique attributes and methods based on what they offer.\n",
        "\n",
        "#### **Example of Attributes:**\n",
        "- **Course Name**: The name of the course (e.g., \"Programming Fundamentals\").\n",
        "- **Credits**: The number of credits the course is worth.\n",
        "- **Instructor**: The name of the instructor teaching the course.\n",
        "\n",
        "\n",
        "#### **Example of Methods:**\n",
        "- **Get Syllabus**: A method that provides the course syllabus.\n",
        "- **Enroll Student**: A method to enroll students in the course.\n",
        "\n",
        "\n",
        "\n",
        "### **1. Inheritance: Specialized Courses**\n",
        "Inheritance allows courses to share common features while also having specific characteristics.\n",
        "\n",
        "1. **Base Class: Course**\n",
        "   - Common attributes: `course_name`, `credits`, `instructor`\n",
        "   - Common methods: `get_syllabus()`, `enroll_student()`\n",
        "\n",
        "2. **Derived Classes:**\n",
        "   - **ProgrammingCourse** (inherits from Course):\n",
        "     - Additional attribute: `programming_language`\n",
        "     - Method: `get_practical_exercises()`\n",
        "   \n",
        "   - **MathematicsCourse** (inherits from Course):\n",
        "     - Additional attribute: `math_field` (e.g., Calculus, Statistics)\n",
        "     - Method: `get_formula_sheet()`\n",
        "\n",
        "\n",
        "### **2. Polymorphism: Different Behaviors**\n",
        "Polymorphism allows different types of courses to have a method that behaves differently based on the course type.\n",
        "\n",
        "- Both **ProgrammingCourse** and **MathematicsCourse** can have a method called `get_schedule()`. However, the output will be different:\n",
        "  - **ProgrammingCourse**: Might include coding assignments and lab sessions.\n",
        "  - **MathematicsCourse**: Might include theory lectures and problem-solving sessions.\n",
        "\n",
        "\n",
        "\n",
        "### **3. Encapsulation:**\n",
        "- **Private Attributes**: These are the details of a class (like course information) that you don’t want everyone to change directly. You hide them by using a double underscore (`__`).\n",
        "  - **Example**: `__course_name`, `__credits`, and `__instructor` in our **Course** class.\n",
        "\n",
        "- **Public Methods**: These are the functions that allow you to access or change the private attributes safely. Think of them as the \"safe doors\" to get in and out of the private data.\n",
        "  - **Example**: Methods like `get_course_name()`, `get_credits()`, and `enroll_student()` let you interact with the course details without exposing them directly.\n",
        "\n",
        "\n",
        "\n",
        "### **4.Abstraction: Hiding Complexity**\n",
        "Abstraction allows you to interact with a course without needing to understand all the underlying details.\n",
        "\n",
        "- You can enroll in a course by simply calling the `enroll_student()` method without needing to know how the enrollment process works behind the scenes (like database operations, checks, etc.)."
      ],
      "metadata": {
        "id": "ZW2v-Hr2m-RW"
      }
    },
    {
      "cell_type": "code",
      "execution_count": null,
      "metadata": {
        "id": "__cyVyJqm6vr"
      },
      "outputs": [],
      "source": []
    }
  ]
}